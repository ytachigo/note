{
 "cells": [
  {
   "cell_type": "code",
   "execution_count": 4,
   "metadata": {},
   "outputs": [
    {
     "data": {
      "text/plain": [
       "<module 'numpy' from '/Users/tachi/.pyenv/versions/anaconda3-4.0.0/lib/python3.5/site-packages/numpy/__init__.py'>"
      ]
     },
     "execution_count": 4,
     "metadata": {},
     "output_type": "execute_result"
    }
   ],
   "source": [
    "# Reload a module\n",
    "import numpy as np\n",
    "import importlib\n",
    "importlib.reload(np) # Reload the numpy"
   ]
  },
  {
   "cell_type": "code",
   "execution_count": 6,
   "metadata": {},
   "outputs": [
    {
     "name": "stdout",
     "output_type": "stream",
     "text": [
      "elapsed time: 0.4499640464782715\n"
     ]
    }
   ],
   "source": [
    "# Measure an elapsed time\n",
    "import time\n",
    "t0 = time.time() \n",
    "\n",
    "for i in range(1000000):\n",
    "    i ** 10\n",
    "\n",
    "t1 = time.time()\n",
    " \n",
    "# 経過時間を表示\n",
    "elapsed_time = t1 - t0\n",
    "print('elapsed time:', elapsed_time)"
   ]
  },
  {
   "cell_type": "code",
   "execution_count": null,
   "metadata": {
    "collapsed": true
   },
   "outputs": [],
   "source": []
  }
 ],
 "metadata": {
  "kernelspec": {
   "display_name": "Python 3",
   "language": "python",
   "name": "python3"
  },
  "language_info": {
   "codemirror_mode": {
    "name": "ipython",
    "version": 3
   },
   "file_extension": ".py",
   "mimetype": "text/x-python",
   "name": "python",
   "nbconvert_exporter": "python",
   "pygments_lexer": "ipython3",
   "version": "3.5.5"
  }
 },
 "nbformat": 4,
 "nbformat_minor": 2
}
